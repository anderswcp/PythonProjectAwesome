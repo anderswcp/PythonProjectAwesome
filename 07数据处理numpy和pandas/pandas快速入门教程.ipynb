{
 "cells": [
  {
   "cell_type": "code",
   "execution_count": 1,
   "metadata": {
    "collapsed": true
   },
   "outputs": [
    {
     "name": "stdout",
     "output_type": "stream",
     "text": [
      "0    1.0\n",
      "1    4.0\n",
      "2    2.0\n",
      "3    5.0\n",
      "4    7.0\n",
      "5    NaN\n",
      "6    2.0\n",
      "dtype: float64\n"
     ]
    }
   ],
   "source": [
    "import numpy as np\n",
    "import pandas as pd\n",
    "\n",
    "# 生成对象\n",
    "k = pd.Series([1,4,2,5,7,np.nan,2])\n",
    "print(k)"
   ]
  },
  {
   "cell_type": "code",
   "execution_count": 5,
   "outputs": [
    {
     "name": "stdout",
     "output_type": "stream",
     "text": [
      "DatetimeIndex(['2020-10-01', '2020-10-02', '2020-10-03', '2020-10-04',\n",
      "               '2020-10-05', '2020-10-06'],\n",
      "              dtype='datetime64[ns]', freq='D')\n"
     ]
    },
    {
     "data": {
      "text/plain": "                   A         B         C         D\n2020-10-01 -0.102714  0.323031 -0.378437 -0.725649\n2020-10-02 -1.066629  1.250774 -0.517735  0.353463\n2020-10-03 -1.233580  1.518897 -2.303529  0.953673\n2020-10-04 -0.158637 -0.237787  0.109893  0.347391\n2020-10-05 -0.355548  0.102544  0.456307  1.244511\n2020-10-06 -0.798325  1.169551 -1.120230  1.737584",
      "text/html": "<div>\n<style scoped>\n    .dataframe tbody tr th:only-of-type {\n        vertical-align: middle;\n    }\n\n    .dataframe tbody tr th {\n        vertical-align: top;\n    }\n\n    .dataframe thead th {\n        text-align: right;\n    }\n</style>\n<table border=\"1\" class=\"dataframe\">\n  <thead>\n    <tr style=\"text-align: right;\">\n      <th></th>\n      <th>A</th>\n      <th>B</th>\n      <th>C</th>\n      <th>D</th>\n    </tr>\n  </thead>\n  <tbody>\n    <tr>\n      <th>2020-10-01</th>\n      <td>-0.102714</td>\n      <td>0.323031</td>\n      <td>-0.378437</td>\n      <td>-0.725649</td>\n    </tr>\n    <tr>\n      <th>2020-10-02</th>\n      <td>-1.066629</td>\n      <td>1.250774</td>\n      <td>-0.517735</td>\n      <td>0.353463</td>\n    </tr>\n    <tr>\n      <th>2020-10-03</th>\n      <td>-1.233580</td>\n      <td>1.518897</td>\n      <td>-2.303529</td>\n      <td>0.953673</td>\n    </tr>\n    <tr>\n      <th>2020-10-04</th>\n      <td>-0.158637</td>\n      <td>-0.237787</td>\n      <td>0.109893</td>\n      <td>0.347391</td>\n    </tr>\n    <tr>\n      <th>2020-10-05</th>\n      <td>-0.355548</td>\n      <td>0.102544</td>\n      <td>0.456307</td>\n      <td>1.244511</td>\n    </tr>\n    <tr>\n      <th>2020-10-06</th>\n      <td>-0.798325</td>\n      <td>1.169551</td>\n      <td>-1.120230</td>\n      <td>1.737584</td>\n    </tr>\n  </tbody>\n</table>\n</div>"
     },
     "execution_count": 5,
     "metadata": {},
     "output_type": "execute_result"
    }
   ],
   "source": [
    "dates = pd.date_range('20201001', periods=6)\n",
    "print(dates)\n",
    "df = pd.DataFrame(np.random.randn(6,4), index=dates, columns=list('ABCD'))\n",
    "df"
   ],
   "metadata": {
    "collapsed": false,
    "pycharm": {
     "name": "#%%\n"
    }
   }
  },
  {
   "cell_type": "code",
   "execution_count": 6,
   "outputs": [
    {
     "data": {
      "text/plain": "     A          B    C  D      E    F\n0  1.0 2013-01-02  1.0  3   test  foo\n1  1.0 2013-01-02  1.0  3  train  foo\n2  1.0 2013-01-02  1.0  3   test  foo\n3  1.0 2013-01-02  1.0  3  train  foo",
      "text/html": "<div>\n<style scoped>\n    .dataframe tbody tr th:only-of-type {\n        vertical-align: middle;\n    }\n\n    .dataframe tbody tr th {\n        vertical-align: top;\n    }\n\n    .dataframe thead th {\n        text-align: right;\n    }\n</style>\n<table border=\"1\" class=\"dataframe\">\n  <thead>\n    <tr style=\"text-align: right;\">\n      <th></th>\n      <th>A</th>\n      <th>B</th>\n      <th>C</th>\n      <th>D</th>\n      <th>E</th>\n      <th>F</th>\n    </tr>\n  </thead>\n  <tbody>\n    <tr>\n      <th>0</th>\n      <td>1.0</td>\n      <td>2013-01-02</td>\n      <td>1.0</td>\n      <td>3</td>\n      <td>test</td>\n      <td>foo</td>\n    </tr>\n    <tr>\n      <th>1</th>\n      <td>1.0</td>\n      <td>2013-01-02</td>\n      <td>1.0</td>\n      <td>3</td>\n      <td>train</td>\n      <td>foo</td>\n    </tr>\n    <tr>\n      <th>2</th>\n      <td>1.0</td>\n      <td>2013-01-02</td>\n      <td>1.0</td>\n      <td>3</td>\n      <td>test</td>\n      <td>foo</td>\n    </tr>\n    <tr>\n      <th>3</th>\n      <td>1.0</td>\n      <td>2013-01-02</td>\n      <td>1.0</td>\n      <td>3</td>\n      <td>train</td>\n      <td>foo</td>\n    </tr>\n  </tbody>\n</table>\n</div>"
     },
     "execution_count": 6,
     "metadata": {},
     "output_type": "execute_result"
    }
   ],
   "source": [
    "df2 = pd.DataFrame({'A': 1.,\n",
    "                    'B': pd.Timestamp('20130102'),\n",
    "                    'C': pd.Series(1, index=list(range(4)), dtype='float32'),\n",
    "                    'D': np.array([3] * 4, dtype='int32'),\n",
    "                    'E': pd.Categorical([\"test\", \"train\", \"test\", \"train\"]),\n",
    "                    'F': 'foo'})\n",
    "df2"
   ],
   "metadata": {
    "collapsed": false,
    "pycharm": {
     "name": "#%%\n"
    }
   }
  },
  {
   "cell_type": "code",
   "execution_count": 7,
   "outputs": [
    {
     "data": {
      "text/plain": "A           float64\nB    datetime64[ns]\nC           float32\nD             int32\nE          category\nF            object\ndtype: object"
     },
     "execution_count": 7,
     "metadata": {},
     "output_type": "execute_result"
    }
   ],
   "source": [
    "df2.dtypes\n"
   ],
   "metadata": {
    "collapsed": false,
    "pycharm": {
     "name": "#%%\n"
    }
   }
  },
  {
   "cell_type": "code",
   "execution_count": 12,
   "outputs": [
    {
     "data": {
      "text/plain": "Index(['A', 'B', 'C', 'D'], dtype='object')"
     },
     "execution_count": 12,
     "metadata": {},
     "output_type": "execute_result"
    }
   ],
   "source": [
    "df.head()\n",
    "df.tail(2)\n",
    "print(df.index)\n",
    "print(df.columns)"
   ],
   "metadata": {
    "collapsed": false,
    "pycharm": {
     "name": "#%%\n"
    }
   }
  },
  {
   "cell_type": "code",
   "execution_count": 13,
   "outputs": [
    {
     "name": "stdout",
     "output_type": "stream",
     "text": [
      "[[-0.10271358  0.32303054 -0.37843705 -0.72564868]\n",
      " [-1.0666289   1.2507744  -0.51773468  0.35346255]\n",
      " [-1.23357959  1.51889707 -2.30352905  0.95367296]\n",
      " [-0.15863676 -0.23778748  0.10989268  0.34739073]\n",
      " [-0.3555481   0.10254443  0.45630671  1.24451127]\n",
      " [-0.79832497  1.16955128 -1.12022989  1.73758357]]\n",
      "[[1.0 Timestamp('2013-01-02 00:00:00') 1.0 3 'test' 'foo']\n",
      " [1.0 Timestamp('2013-01-02 00:00:00') 1.0 3 'train' 'foo']\n",
      " [1.0 Timestamp('2013-01-02 00:00:00') 1.0 3 'test' 'foo']\n",
      " [1.0 Timestamp('2013-01-02 00:00:00') 1.0 3 'train' 'foo']]\n"
     ]
    }
   ],
   "source": [
    "print(df.to_numpy())\n",
    "print(df2.to_numpy())\n"
   ],
   "metadata": {
    "collapsed": false,
    "pycharm": {
     "name": "#%%\n"
    }
   }
  },
  {
   "cell_type": "code",
   "execution_count": 14,
   "outputs": [
    {
     "data": {
      "text/plain": "              A         B         C         D\ncount  6.000000  6.000000  6.000000  6.000000\nmean  -0.619239  0.687835 -0.625622  0.651829\nstd    0.481275  0.717222  0.984307  0.860278\nmin   -1.233580 -0.237787 -2.303529 -0.725649\n25%   -0.999553  0.157666 -0.969606  0.348909\n50%   -0.576937  0.746291 -0.448086  0.653568\n75%   -0.207865  1.230469 -0.012190  1.171802\nmax   -0.102714  1.518897  0.456307  1.737584",
      "text/html": "<div>\n<style scoped>\n    .dataframe tbody tr th:only-of-type {\n        vertical-align: middle;\n    }\n\n    .dataframe tbody tr th {\n        vertical-align: top;\n    }\n\n    .dataframe thead th {\n        text-align: right;\n    }\n</style>\n<table border=\"1\" class=\"dataframe\">\n  <thead>\n    <tr style=\"text-align: right;\">\n      <th></th>\n      <th>A</th>\n      <th>B</th>\n      <th>C</th>\n      <th>D</th>\n    </tr>\n  </thead>\n  <tbody>\n    <tr>\n      <th>count</th>\n      <td>6.000000</td>\n      <td>6.000000</td>\n      <td>6.000000</td>\n      <td>6.000000</td>\n    </tr>\n    <tr>\n      <th>mean</th>\n      <td>-0.619239</td>\n      <td>0.687835</td>\n      <td>-0.625622</td>\n      <td>0.651829</td>\n    </tr>\n    <tr>\n      <th>std</th>\n      <td>0.481275</td>\n      <td>0.717222</td>\n      <td>0.984307</td>\n      <td>0.860278</td>\n    </tr>\n    <tr>\n      <th>min</th>\n      <td>-1.233580</td>\n      <td>-0.237787</td>\n      <td>-2.303529</td>\n      <td>-0.725649</td>\n    </tr>\n    <tr>\n      <th>25%</th>\n      <td>-0.999553</td>\n      <td>0.157666</td>\n      <td>-0.969606</td>\n      <td>0.348909</td>\n    </tr>\n    <tr>\n      <th>50%</th>\n      <td>-0.576937</td>\n      <td>0.746291</td>\n      <td>-0.448086</td>\n      <td>0.653568</td>\n    </tr>\n    <tr>\n      <th>75%</th>\n      <td>-0.207865</td>\n      <td>1.230469</td>\n      <td>-0.012190</td>\n      <td>1.171802</td>\n    </tr>\n    <tr>\n      <th>max</th>\n      <td>-0.102714</td>\n      <td>1.518897</td>\n      <td>0.456307</td>\n      <td>1.737584</td>\n    </tr>\n  </tbody>\n</table>\n</div>"
     },
     "execution_count": 14,
     "metadata": {},
     "output_type": "execute_result"
    }
   ],
   "source": [
    "df.describe()"
   ],
   "metadata": {
    "collapsed": false,
    "pycharm": {
     "name": "#%%\n"
    }
   }
  },
  {
   "cell_type": "code",
   "execution_count": 15,
   "outputs": [
    {
     "data": {
      "text/plain": "   2020-10-01  2020-10-02  2020-10-03  2020-10-04  2020-10-05  2020-10-06\nA   -0.102714   -1.066629   -1.233580   -0.158637   -0.355548   -0.798325\nB    0.323031    1.250774    1.518897   -0.237787    0.102544    1.169551\nC   -0.378437   -0.517735   -2.303529    0.109893    0.456307   -1.120230\nD   -0.725649    0.353463    0.953673    0.347391    1.244511    1.737584",
      "text/html": "<div>\n<style scoped>\n    .dataframe tbody tr th:only-of-type {\n        vertical-align: middle;\n    }\n\n    .dataframe tbody tr th {\n        vertical-align: top;\n    }\n\n    .dataframe thead th {\n        text-align: right;\n    }\n</style>\n<table border=\"1\" class=\"dataframe\">\n  <thead>\n    <tr style=\"text-align: right;\">\n      <th></th>\n      <th>2020-10-01</th>\n      <th>2020-10-02</th>\n      <th>2020-10-03</th>\n      <th>2020-10-04</th>\n      <th>2020-10-05</th>\n      <th>2020-10-06</th>\n    </tr>\n  </thead>\n  <tbody>\n    <tr>\n      <th>A</th>\n      <td>-0.102714</td>\n      <td>-1.066629</td>\n      <td>-1.233580</td>\n      <td>-0.158637</td>\n      <td>-0.355548</td>\n      <td>-0.798325</td>\n    </tr>\n    <tr>\n      <th>B</th>\n      <td>0.323031</td>\n      <td>1.250774</td>\n      <td>1.518897</td>\n      <td>-0.237787</td>\n      <td>0.102544</td>\n      <td>1.169551</td>\n    </tr>\n    <tr>\n      <th>C</th>\n      <td>-0.378437</td>\n      <td>-0.517735</td>\n      <td>-2.303529</td>\n      <td>0.109893</td>\n      <td>0.456307</td>\n      <td>-1.120230</td>\n    </tr>\n    <tr>\n      <th>D</th>\n      <td>-0.725649</td>\n      <td>0.353463</td>\n      <td>0.953673</td>\n      <td>0.347391</td>\n      <td>1.244511</td>\n      <td>1.737584</td>\n    </tr>\n  </tbody>\n</table>\n</div>"
     },
     "execution_count": 15,
     "metadata": {},
     "output_type": "execute_result"
    }
   ],
   "source": [
    "df.T"
   ],
   "metadata": {
    "collapsed": false,
    "pycharm": {
     "name": "#%%\n"
    }
   }
  },
  {
   "cell_type": "code",
   "execution_count": 16,
   "outputs": [
    {
     "data": {
      "text/plain": "                   D         C         B         A\n2020-10-01 -0.725649 -0.378437  0.323031 -0.102714\n2020-10-02  0.353463 -0.517735  1.250774 -1.066629\n2020-10-03  0.953673 -2.303529  1.518897 -1.233580\n2020-10-04  0.347391  0.109893 -0.237787 -0.158637\n2020-10-05  1.244511  0.456307  0.102544 -0.355548\n2020-10-06  1.737584 -1.120230  1.169551 -0.798325",
      "text/html": "<div>\n<style scoped>\n    .dataframe tbody tr th:only-of-type {\n        vertical-align: middle;\n    }\n\n    .dataframe tbody tr th {\n        vertical-align: top;\n    }\n\n    .dataframe thead th {\n        text-align: right;\n    }\n</style>\n<table border=\"1\" class=\"dataframe\">\n  <thead>\n    <tr style=\"text-align: right;\">\n      <th></th>\n      <th>D</th>\n      <th>C</th>\n      <th>B</th>\n      <th>A</th>\n    </tr>\n  </thead>\n  <tbody>\n    <tr>\n      <th>2020-10-01</th>\n      <td>-0.725649</td>\n      <td>-0.378437</td>\n      <td>0.323031</td>\n      <td>-0.102714</td>\n    </tr>\n    <tr>\n      <th>2020-10-02</th>\n      <td>0.353463</td>\n      <td>-0.517735</td>\n      <td>1.250774</td>\n      <td>-1.066629</td>\n    </tr>\n    <tr>\n      <th>2020-10-03</th>\n      <td>0.953673</td>\n      <td>-2.303529</td>\n      <td>1.518897</td>\n      <td>-1.233580</td>\n    </tr>\n    <tr>\n      <th>2020-10-04</th>\n      <td>0.347391</td>\n      <td>0.109893</td>\n      <td>-0.237787</td>\n      <td>-0.158637</td>\n    </tr>\n    <tr>\n      <th>2020-10-05</th>\n      <td>1.244511</td>\n      <td>0.456307</td>\n      <td>0.102544</td>\n      <td>-0.355548</td>\n    </tr>\n    <tr>\n      <th>2020-10-06</th>\n      <td>1.737584</td>\n      <td>-1.120230</td>\n      <td>1.169551</td>\n      <td>-0.798325</td>\n    </tr>\n  </tbody>\n</table>\n</div>"
     },
     "execution_count": 16,
     "metadata": {},
     "output_type": "execute_result"
    }
   ],
   "source": [
    "# 按轴排序\n",
    "df.sort_index(axis=1, ascending=False)"
   ],
   "metadata": {
    "collapsed": false,
    "pycharm": {
     "name": "#%%\n"
    }
   }
  },
  {
   "cell_type": "code",
   "execution_count": 17,
   "outputs": [
    {
     "data": {
      "text/plain": "                   A         B         C         D\n2020-10-04 -0.158637 -0.237787  0.109893  0.347391\n2020-10-05 -0.355548  0.102544  0.456307  1.244511\n2020-10-01 -0.102714  0.323031 -0.378437 -0.725649\n2020-10-06 -0.798325  1.169551 -1.120230  1.737584\n2020-10-02 -1.066629  1.250774 -0.517735  0.353463\n2020-10-03 -1.233580  1.518897 -2.303529  0.953673",
      "text/html": "<div>\n<style scoped>\n    .dataframe tbody tr th:only-of-type {\n        vertical-align: middle;\n    }\n\n    .dataframe tbody tr th {\n        vertical-align: top;\n    }\n\n    .dataframe thead th {\n        text-align: right;\n    }\n</style>\n<table border=\"1\" class=\"dataframe\">\n  <thead>\n    <tr style=\"text-align: right;\">\n      <th></th>\n      <th>A</th>\n      <th>B</th>\n      <th>C</th>\n      <th>D</th>\n    </tr>\n  </thead>\n  <tbody>\n    <tr>\n      <th>2020-10-04</th>\n      <td>-0.158637</td>\n      <td>-0.237787</td>\n      <td>0.109893</td>\n      <td>0.347391</td>\n    </tr>\n    <tr>\n      <th>2020-10-05</th>\n      <td>-0.355548</td>\n      <td>0.102544</td>\n      <td>0.456307</td>\n      <td>1.244511</td>\n    </tr>\n    <tr>\n      <th>2020-10-01</th>\n      <td>-0.102714</td>\n      <td>0.323031</td>\n      <td>-0.378437</td>\n      <td>-0.725649</td>\n    </tr>\n    <tr>\n      <th>2020-10-06</th>\n      <td>-0.798325</td>\n      <td>1.169551</td>\n      <td>-1.120230</td>\n      <td>1.737584</td>\n    </tr>\n    <tr>\n      <th>2020-10-02</th>\n      <td>-1.066629</td>\n      <td>1.250774</td>\n      <td>-0.517735</td>\n      <td>0.353463</td>\n    </tr>\n    <tr>\n      <th>2020-10-03</th>\n      <td>-1.233580</td>\n      <td>1.518897</td>\n      <td>-2.303529</td>\n      <td>0.953673</td>\n    </tr>\n  </tbody>\n</table>\n</div>"
     },
     "execution_count": 17,
     "metadata": {},
     "output_type": "execute_result"
    }
   ],
   "source": [
    "# 按值排序\n",
    "df.sort_values(by='B')"
   ],
   "metadata": {
    "collapsed": false,
    "pycharm": {
     "name": "#%%\n"
    }
   }
  },
  {
   "cell_type": "code",
   "execution_count": null,
   "outputs": [],
   "source": [],
   "metadata": {
    "collapsed": false,
    "pycharm": {
     "name": "#%%\n"
    }
   }
  }
 ],
 "metadata": {
  "kernelspec": {
   "display_name": "Python 3",
   "language": "python",
   "name": "python3"
  },
  "language_info": {
   "codemirror_mode": {
    "name": "ipython",
    "version": 2
   },
   "file_extension": ".py",
   "mimetype": "text/x-python",
   "name": "python",
   "nbconvert_exporter": "python",
   "pygments_lexer": "ipython2",
   "version": "2.7.6"
  }
 },
 "nbformat": 4,
 "nbformat_minor": 0
}